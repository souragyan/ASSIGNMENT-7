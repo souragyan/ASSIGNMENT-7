{
 "cells": [
  {
   "cell_type": "code",
   "execution_count": 1,
   "metadata": {},
   "outputs": [],
   "source": [
    "import pandas as pd \n",
    "import numpy as np\n",
    "from sklearn.decomposition import PCA\n",
    "import matplotlib.pyplot as plt\n",
    "from sklearn.preprocessing import scale "
   ]
  },
  {
   "cell_type": "code",
   "execution_count": 7,
   "metadata": {},
   "outputs": [
    {
     "data": {
      "text/html": [
       "<div>\n",
       "<style scoped>\n",
       "    .dataframe tbody tr th:only-of-type {\n",
       "        vertical-align: middle;\n",
       "    }\n",
       "\n",
       "    .dataframe tbody tr th {\n",
       "        vertical-align: top;\n",
       "    }\n",
       "\n",
       "    .dataframe thead th {\n",
       "        text-align: right;\n",
       "    }\n",
       "</style>\n",
       "<table border=\"1\" class=\"dataframe\">\n",
       "  <thead>\n",
       "    <tr style=\"text-align: right;\">\n",
       "      <th></th>\n",
       "      <th>Type</th>\n",
       "      <th>Alcohol</th>\n",
       "      <th>Malic</th>\n",
       "      <th>Ash</th>\n",
       "      <th>Alcalinity</th>\n",
       "      <th>Magnesium</th>\n",
       "      <th>Phenols</th>\n",
       "      <th>Flavanoids</th>\n",
       "      <th>Nonflavanoids</th>\n",
       "      <th>Proanthocyanins</th>\n",
       "      <th>Color</th>\n",
       "      <th>Hue</th>\n",
       "      <th>Dilution</th>\n",
       "      <th>Proline</th>\n",
       "    </tr>\n",
       "  </thead>\n",
       "  <tbody>\n",
       "    <tr>\n",
       "      <th>0</th>\n",
       "      <td>1</td>\n",
       "      <td>14.23</td>\n",
       "      <td>1.71</td>\n",
       "      <td>2.43</td>\n",
       "      <td>15.6</td>\n",
       "      <td>127</td>\n",
       "      <td>2.80</td>\n",
       "      <td>3.06</td>\n",
       "      <td>0.28</td>\n",
       "      <td>2.29</td>\n",
       "      <td>5.64</td>\n",
       "      <td>1.04</td>\n",
       "      <td>3.92</td>\n",
       "      <td>1065</td>\n",
       "    </tr>\n",
       "    <tr>\n",
       "      <th>1</th>\n",
       "      <td>1</td>\n",
       "      <td>13.20</td>\n",
       "      <td>1.78</td>\n",
       "      <td>2.14</td>\n",
       "      <td>11.2</td>\n",
       "      <td>100</td>\n",
       "      <td>2.65</td>\n",
       "      <td>2.76</td>\n",
       "      <td>0.26</td>\n",
       "      <td>1.28</td>\n",
       "      <td>4.38</td>\n",
       "      <td>1.05</td>\n",
       "      <td>3.40</td>\n",
       "      <td>1050</td>\n",
       "    </tr>\n",
       "    <tr>\n",
       "      <th>2</th>\n",
       "      <td>1</td>\n",
       "      <td>13.16</td>\n",
       "      <td>2.36</td>\n",
       "      <td>2.67</td>\n",
       "      <td>18.6</td>\n",
       "      <td>101</td>\n",
       "      <td>2.80</td>\n",
       "      <td>3.24</td>\n",
       "      <td>0.30</td>\n",
       "      <td>2.81</td>\n",
       "      <td>5.68</td>\n",
       "      <td>1.03</td>\n",
       "      <td>3.17</td>\n",
       "      <td>1185</td>\n",
       "    </tr>\n",
       "    <tr>\n",
       "      <th>3</th>\n",
       "      <td>1</td>\n",
       "      <td>14.37</td>\n",
       "      <td>1.95</td>\n",
       "      <td>2.50</td>\n",
       "      <td>16.8</td>\n",
       "      <td>113</td>\n",
       "      <td>3.85</td>\n",
       "      <td>3.49</td>\n",
       "      <td>0.24</td>\n",
       "      <td>2.18</td>\n",
       "      <td>7.80</td>\n",
       "      <td>0.86</td>\n",
       "      <td>3.45</td>\n",
       "      <td>1480</td>\n",
       "    </tr>\n",
       "    <tr>\n",
       "      <th>4</th>\n",
       "      <td>1</td>\n",
       "      <td>13.24</td>\n",
       "      <td>2.59</td>\n",
       "      <td>2.87</td>\n",
       "      <td>21.0</td>\n",
       "      <td>118</td>\n",
       "      <td>2.80</td>\n",
       "      <td>2.69</td>\n",
       "      <td>0.39</td>\n",
       "      <td>1.82</td>\n",
       "      <td>4.32</td>\n",
       "      <td>1.04</td>\n",
       "      <td>2.93</td>\n",
       "      <td>735</td>\n",
       "    </tr>\n",
       "  </tbody>\n",
       "</table>\n",
       "</div>"
      ],
      "text/plain": [
       "   Type  Alcohol  Malic   Ash  Alcalinity  Magnesium  Phenols  Flavanoids  \\\n",
       "0     1    14.23   1.71  2.43        15.6        127     2.80        3.06   \n",
       "1     1    13.20   1.78  2.14        11.2        100     2.65        2.76   \n",
       "2     1    13.16   2.36  2.67        18.6        101     2.80        3.24   \n",
       "3     1    14.37   1.95  2.50        16.8        113     3.85        3.49   \n",
       "4     1    13.24   2.59  2.87        21.0        118     2.80        2.69   \n",
       "\n",
       "   Nonflavanoids  Proanthocyanins  Color   Hue  Dilution  Proline  \n",
       "0           0.28             2.29   5.64  1.04      3.92     1065  \n",
       "1           0.26             1.28   4.38  1.05      3.40     1050  \n",
       "2           0.30             2.81   5.68  1.03      3.17     1185  \n",
       "3           0.24             2.18   7.80  0.86      3.45     1480  \n",
       "4           0.39             1.82   4.32  1.04      2.93      735  "
      ]
     },
     "execution_count": 7,
     "metadata": {},
     "output_type": "execute_result"
    }
   ],
   "source": [
    "wine=pd.read_csv('wine.csv')\n",
    "wine.describe()\n",
    "wine.head()"
   ]
  },
  {
   "cell_type": "code",
   "execution_count": 11,
   "metadata": {},
   "outputs": [
    {
     "data": {
      "text/plain": [
       "array([[1.000e+00, 1.423e+01, 1.710e+00, ..., 1.040e+00, 3.920e+00,\n",
       "        1.065e+03],\n",
       "       [1.000e+00, 1.320e+01, 1.780e+00, ..., 1.050e+00, 3.400e+00,\n",
       "        1.050e+03],\n",
       "       [1.000e+00, 1.316e+01, 2.360e+00, ..., 1.030e+00, 3.170e+00,\n",
       "        1.185e+03],\n",
       "       ...,\n",
       "       [3.000e+00, 1.327e+01, 4.280e+00, ..., 5.900e-01, 1.560e+00,\n",
       "        8.350e+02],\n",
       "       [3.000e+00, 1.317e+01, 2.590e+00, ..., 6.000e-01, 1.620e+00,\n",
       "        8.400e+02],\n",
       "       [3.000e+00, 1.413e+01, 4.100e+00, ..., 6.100e-01, 1.600e+00,\n",
       "        5.600e+02]])"
      ]
     },
     "execution_count": 11,
     "metadata": {},
     "output_type": "execute_result"
    }
   ],
   "source": [
    " wine1=wine.iloc[:,1:]\n",
    " wine1.head()  \n",
    "WINE=wine.values\n",
    "WINE"
   ]
  },
  {
   "cell_type": "code",
   "execution_count": 12,
   "metadata": {},
   "outputs": [],
   "source": [
    "wine_normal=scale(wine)"
   ]
  },
  {
   "cell_type": "code",
   "execution_count": 13,
   "metadata": {},
   "outputs": [
    {
     "data": {
      "text/plain": [
       "array([[-1.21394365,  1.51861254, -0.5622498 , ...,  0.36217728,\n",
       "         1.84791957,  1.01300893],\n",
       "       [-1.21394365,  0.24628963, -0.49941338, ...,  0.40605066,\n",
       "         1.1134493 ,  0.96524152],\n",
       "       [-1.21394365,  0.19687903,  0.02123125, ...,  0.31830389,\n",
       "         0.78858745,  1.39514818],\n",
       "       ...,\n",
       "       [ 1.37386437,  0.33275817,  1.74474449, ..., -1.61212515,\n",
       "        -1.48544548,  0.28057537],\n",
       "       [ 1.37386437,  0.20923168,  0.22769377, ..., -1.56825176,\n",
       "        -1.40069891,  0.29649784],\n",
       "       [ 1.37386437,  1.39508604,  1.58316512, ..., -1.52437837,\n",
       "        -1.42894777, -0.59516041]])"
      ]
     },
     "execution_count": 13,
     "metadata": {},
     "output_type": "execute_result"
    }
   ],
   "source": [
    "wine_normal"
   ]
  },
  {
   "cell_type": "code",
   "execution_count": 15,
   "metadata": {},
   "outputs": [
    {
     "data": {
      "text/plain": [
       "array([[-3.52293390e+00, -1.45309844e+00, -1.64795488e-01, ...,\n",
       "         5.52927766e-01, -3.02978176e-01,  2.00857450e-01],\n",
       "       [-2.52885806e+00,  3.30019252e-01, -2.02670665e+00, ...,\n",
       "         3.94971160e-01, -1.46645308e-01,  1.26402355e-01],\n",
       "       [-2.78502898e+00, -1.03693595e+00,  9.83237703e-01, ...,\n",
       "         1.89799314e-03,  2.12780166e-02, -5.57515155e-02],\n",
       "       ...,\n",
       "       [ 3.02727243e+00, -2.75604024e+00, -9.40803036e-01, ...,\n",
       "         6.93336340e-01,  1.67035660e-01, -3.16957430e-02],\n",
       "       [ 2.75522166e+00, -2.29378408e+00, -5.50473677e-01, ...,\n",
       "         3.44119826e-01, -1.09514873e-01,  1.02823104e-01],\n",
       "       [ 3.49633565e+00, -2.76060799e+00,  1.01315115e+00, ...,\n",
       "        -1.89866131e-01, -1.64090011e-01, -2.64916504e-01]])"
      ]
     },
     "execution_count": 15,
     "metadata": {},
     "output_type": "execute_result"
    }
   ],
   "source": [
    "pca = PCA()\n",
    "pca_values = pca.fit_transform(wine_normal)\n",
    "pca_values"
   ]
  },
  {
   "cell_type": "code",
   "execution_count": 42,
   "metadata": {},
   "outputs": [],
   "source": [
    "pca = PCA(n_components = 9)\n",
    "pca_values = pca.fit_transform(wine_normal)"
   ]
  },
  {
   "cell_type": "code",
   "execution_count": 43,
   "metadata": {},
   "outputs": [
    {
     "data": {
      "text/plain": [
       "array([0.39542486, 0.17836259, 0.10329102, 0.06627984, 0.06267875,\n",
       "       0.0480556 , 0.03955707, 0.02500244, 0.02103871])"
      ]
     },
     "execution_count": 43,
     "metadata": {},
     "output_type": "execute_result"
    }
   ],
   "source": [
    "var = pca.explained_variance_ratio_\n",
    "var"
   ]
  },
  {
   "cell_type": "code",
   "execution_count": 44,
   "metadata": {},
   "outputs": [
    {
     "data": {
      "text/plain": [
       "array([39.54, 57.38, 67.71, 74.34, 80.61, 85.42, 89.38, 91.88, 93.98])"
      ]
     },
     "execution_count": 44,
     "metadata": {},
     "output_type": "execute_result"
    }
   ],
   "source": [
    "var1 = np.cumsum(np.round(var,decimals = 4)*100)\n",
    "var1"
   ]
  },
  {
   "cell_type": "code",
   "execution_count": 45,
   "metadata": {},
   "outputs": [
    {
     "data": {
      "text/plain": [
       "[<matplotlib.lines.Line2D at 0x14369132ee0>]"
      ]
     },
     "execution_count": 45,
     "metadata": {},
     "output_type": "execute_result"
    },
    {
     "data": {
      "image/png": "[encoded data removed]",
      "text/plain": [
       "<Figure size 432x288 with 1 Axes>"
      ]
     },
     "metadata": {
      "needs_background": "light"
     },
     "output_type": "display_data"
    }
   ],
   "source": [
    "plt.plot(var1,color=\"red\")"
   ]
  },
  {
   "cell_type": "code",
   "execution_count": 46,
   "metadata": {},
   "outputs": [
    {
     "data": {
      "text/plain": [
       "array([[-3.5229339 ],\n",
       "       [-2.52885806],\n",
       "       [-2.78502898],\n",
       "       [-3.92258841],\n",
       "       [-1.40751111],\n",
       "       [-3.28812981],\n",
       "       [-2.75057754],\n",
       "       [-2.39286652],\n",
       "       [-2.79525633],\n",
       "       [-3.00559666],\n",
       "       [-3.67868855],\n",
       "       [-2.10963477],\n",
       "       [-2.43845636],\n",
       "       [-3.67349453],\n",
       "       [-4.44157575],\n",
       "       [-2.60892387],\n",
       "       [-2.47542846],\n",
       "       [-2.22623243],\n",
       "       [-3.74226929],\n",
       "       [-2.3944115 ],\n",
       "       [-3.33656895],\n",
       "       [-1.48140399],\n",
       "       [-2.82806867],\n",
       "       [-2.00771405],\n",
       "       [-2.11463604],\n",
       "       [-1.39753751],\n",
       "       [-2.13348803],\n",
       "       [-1.62970383],\n",
       "       [-2.50760753],\n",
       "       [-2.55948318],\n",
       "       [-2.77244452],\n",
       "       [-2.93513374],\n",
       "       [-1.99124842],\n",
       "       [-2.24570987],\n",
       "       [-1.78698628],\n",
       "       [-2.22763867],\n",
       "       [-1.76802847],\n",
       "       [-1.52317798],\n",
       "       [-1.87236494],\n",
       "       [-2.79711434],\n",
       "       [-2.84093569],\n",
       "       [-1.1055721 ],\n",
       "       [-3.30689482],\n",
       "       [-0.90479842],\n",
       "       [-2.39683569],\n",
       "       [-1.53781235],\n",
       "       [-2.99121644],\n",
       "       [-3.05931631],\n",
       "       [-2.31877146],\n",
       "       [-2.95947229],\n",
       "       [-3.4121813 ],\n",
       "       [-3.11637827],\n",
       "       [-3.70021113],\n",
       "       [-2.53754828],\n",
       "       [-2.44478924],\n",
       "       [-2.72281451],\n",
       "       [-2.98531677],\n",
       "       [-2.4881469 ],\n",
       "       [-3.35128665],\n",
       "       [ 0.87492504],\n",
       "       [ 1.41466076],\n",
       "       [ 1.71387916],\n",
       "       [-0.01229686],\n",
       "       [-1.83310122],\n",
       "       [ 0.57453595],\n",
       "       [-0.79147116],\n",
       "       [-2.02003148],\n",
       "       [-0.14328098],\n",
       "       [ 0.75150766],\n",
       "       [-1.74032573],\n",
       "       [ 1.47630041],\n",
       "       [-1.49197779],\n",
       "       [ 0.69396686],\n",
       "       [-2.29945716],\n",
       "       [-1.63413138],\n",
       "       [ 0.82899932],\n",
       "       [-0.30043175],\n",
       "       [ 1.3611782 ],\n",
       "       [-1.09604852],\n",
       "       [-0.31921974],\n",
       "       [-0.67125757],\n",
       "       [-0.92411091],\n",
       "       [ 0.46749204],\n",
       "       [ 2.35241675],\n",
       "       [-0.71822325],\n",
       "       [-0.69829604],\n",
       "       [ 0.76457439],\n",
       "       [ 0.52824923],\n",
       "       [ 1.03785507],\n",
       "       [ 0.52142425],\n",
       "       [ 1.25335859],\n",
       "       [ 1.46070926],\n",
       "       [ 1.79124629],\n",
       "       [-0.65330428],\n",
       "       [-0.8361451 ],\n",
       "       [-2.26060732],\n",
       "       [ 0.55547283],\n",
       "       [-0.9149965 ],\n",
       "       [-2.02098347],\n",
       "       [-1.26542677],\n",
       "       [-0.70143229],\n",
       "       [ 0.53086979],\n",
       "       [ 0.17615672],\n",
       "       [ 0.64274197],\n",
       "       [-0.33770614],\n",
       "       [ 1.63721155],\n",
       "       [ 0.35877264],\n",
       "       [ 1.51311874],\n",
       "       [-0.03009626],\n",
       "       [-1.40940236],\n",
       "       [-1.21824444],\n",
       "       [ 0.28831462],\n",
       "       [ 1.19609762],\n",
       "       [ 0.45161819],\n",
       "       [ 0.47183886],\n",
       "       [-0.42339909],\n",
       "       [ 0.26437653],\n",
       "       [ 0.13745847],\n",
       "       [ 2.25047663],\n",
       "       [ 0.53074498],\n",
       "       [-0.64128735],\n",
       "       [-1.18436691],\n",
       "       [ 1.10694195],\n",
       "       [ 0.45864794],\n",
       "       [-0.84610722],\n",
       "       [ 0.11653672],\n",
       "       [ 0.0070867 ],\n",
       "       [ 1.49530863],\n",
       "       [ 0.47860169],\n",
       "       [ 1.66414462],\n",
       "       [ 1.77894554],\n",
       "       [ 2.74191892],\n",
       "       [ 3.25429697],\n",
       "       [ 2.53036635],\n",
       "       [ 2.71302437],\n",
       "       [ 3.34898858],\n",
       "       [ 4.11716696],\n",
       "       [ 4.14412844],\n",
       "       [ 3.3659255 ],\n",
       "       [ 2.71267678],\n",
       "       [ 3.07164523],\n",
       "       [ 2.62614546],\n",
       "       [ 3.26039672],\n",
       "       [ 2.70404699],\n",
       "       [ 2.59084775],\n",
       "       [ 2.9540111 ],\n",
       "       [ 4.45995006],\n",
       "       [ 3.82924957],\n",
       "       [ 3.13365001],\n",
       "       [ 3.2347141 ],\n",
       "       [ 2.71256472],\n",
       "       [ 2.93094044],\n",
       "       [ 2.25057425],\n",
       "       [ 3.09752033],\n",
       "       [ 3.07705567],\n",
       "       [ 3.85615824],\n",
       "       [ 3.20838842],\n",
       "       [ 3.65849417],\n",
       "       [ 1.55298183],\n",
       "       [ 2.05828389],\n",
       "       [ 3.43854934],\n",
       "       [ 2.58448815],\n",
       "       [ 3.14445722],\n",
       "       [ 2.92529398],\n",
       "       [ 3.26182677],\n",
       "       [ 3.77758717],\n",
       "       [ 2.77463925],\n",
       "       [ 3.24261618],\n",
       "       [ 2.56374375],\n",
       "       [ 2.74872948],\n",
       "       [ 3.4911962 ],\n",
       "       [ 3.9291344 ],\n",
       "       [ 2.81529547],\n",
       "       [ 3.6279962 ],\n",
       "       [ 2.94272922],\n",
       "       [ 3.02727243],\n",
       "       [ 2.75522166],\n",
       "       [ 3.49633565]])"
      ]
     },
     "execution_count": 46,
     "metadata": {},
     "output_type": "execute_result"
    }
   ],
   "source": [
    "pca_values[:,0:1]"
   ]
  },
  {
   "cell_type": "code",
   "execution_count": 47,
   "metadata": {},
   "outputs": [
    {
     "data": {
      "text/plain": [
       "<matplotlib.collections.PathCollection at 0x14369190940>"
      ]
     },
     "execution_count": 47,
     "metadata": {},
     "output_type": "execute_result"
    },
    {
     "data": {
      "image/png": "[encoded data removed]",
      "text/plain": [
       "<Figure size 432x288 with 1 Axes>"
      ]
     },
     "metadata": {
      "needs_background": "light"
     },
     "output_type": "display_data"
    }
   ],
   "source": [
    "# plot between PCA1 and PCA2 \n",
    "x = pca_values[:,0:1]\n",
    "y = pca_values[:,1:2]\n",
    "#z = pca_values[:2:3]\n",
    "plt.scatter(x,y)"
   ]
  },
  {
   "cell_type": "code",
   "execution_count": 48,
   "metadata": {},
   "outputs": [
    {
     "data": {
      "text/html": [
       "<div>\n",
       "<style scoped>\n",
       "    .dataframe tbody tr th:only-of-type {\n",
       "        vertical-align: middle;\n",
       "    }\n",
       "\n",
       "    .dataframe tbody tr th {\n",
       "        vertical-align: top;\n",
       "    }\n",
       "\n",
       "    .dataframe thead th {\n",
       "        text-align: right;\n",
       "    }\n",
       "</style>\n",
       "<table border=\"1\" class=\"dataframe\">\n",
       "  <thead>\n",
       "    <tr style=\"text-align: right;\">\n",
       "      <th></th>\n",
       "      <th>pc1</th>\n",
       "      <th>pc2</th>\n",
       "      <th>Type</th>\n",
       "    </tr>\n",
       "  </thead>\n",
       "  <tbody>\n",
       "    <tr>\n",
       "      <th>0</th>\n",
       "      <td>-3.522934</td>\n",
       "      <td>-1.453098</td>\n",
       "      <td>1</td>\n",
       "    </tr>\n",
       "    <tr>\n",
       "      <th>1</th>\n",
       "      <td>-2.528858</td>\n",
       "      <td>0.330019</td>\n",
       "      <td>1</td>\n",
       "    </tr>\n",
       "    <tr>\n",
       "      <th>2</th>\n",
       "      <td>-2.785029</td>\n",
       "      <td>-1.036936</td>\n",
       "      <td>1</td>\n",
       "    </tr>\n",
       "    <tr>\n",
       "      <th>3</th>\n",
       "      <td>-3.922588</td>\n",
       "      <td>-2.768210</td>\n",
       "      <td>1</td>\n",
       "    </tr>\n",
       "    <tr>\n",
       "      <th>4</th>\n",
       "      <td>-1.407511</td>\n",
       "      <td>-0.867773</td>\n",
       "      <td>1</td>\n",
       "    </tr>\n",
       "    <tr>\n",
       "      <th>...</th>\n",
       "      <td>...</td>\n",
       "      <td>...</td>\n",
       "      <td>...</td>\n",
       "    </tr>\n",
       "    <tr>\n",
       "      <th>173</th>\n",
       "      <td>3.627996</td>\n",
       "      <td>-2.206617</td>\n",
       "      <td>3</td>\n",
       "    </tr>\n",
       "    <tr>\n",
       "      <th>174</th>\n",
       "      <td>2.942729</td>\n",
       "      <td>-1.752263</td>\n",
       "      <td>3</td>\n",
       "    </tr>\n",
       "    <tr>\n",
       "      <th>175</th>\n",
       "      <td>3.027272</td>\n",
       "      <td>-2.756040</td>\n",
       "      <td>3</td>\n",
       "    </tr>\n",
       "    <tr>\n",
       "      <th>176</th>\n",
       "      <td>2.755222</td>\n",
       "      <td>-2.293784</td>\n",
       "      <td>3</td>\n",
       "    </tr>\n",
       "    <tr>\n",
       "      <th>177</th>\n",
       "      <td>3.496336</td>\n",
       "      <td>-2.760608</td>\n",
       "      <td>3</td>\n",
       "    </tr>\n",
       "  </tbody>\n",
       "</table>\n",
       "<p>178 rows × 3 columns</p>\n",
       "</div>"
      ],
      "text/plain": [
       "          pc1       pc2  Type\n",
       "0   -3.522934 -1.453098     1\n",
       "1   -2.528858  0.330019     1\n",
       "2   -2.785029 -1.036936     1\n",
       "3   -3.922588 -2.768210     1\n",
       "4   -1.407511 -0.867773     1\n",
       "..        ...       ...   ...\n",
       "173  3.627996 -2.206617     3\n",
       "174  2.942729 -1.752263     3\n",
       "175  3.027272 -2.756040     3\n",
       "176  2.755222 -2.293784     3\n",
       "177  3.496336 -2.760608     3\n",
       "\n",
       "[178 rows x 3 columns]"
      ]
     },
     "execution_count": 48,
     "metadata": {},
     "output_type": "execute_result"
    }
   ],
   "source": [
    "finalDf = pd.concat([pd.DataFrame(pca_values[:,0:2],columns=['pc1','pc2']), wine[['Type']]], axis = 1)\n",
    "finalDf"
   ]
  },
  {
   "cell_type": "code",
   "execution_count": 49,
   "metadata": {},
   "outputs": [
    {
     "data": {
      "text/plain": [
       "<matplotlib.axes._subplots.AxesSubplot at 0x143691c3670>"
      ]
     },
     "execution_count": 49,
     "metadata": {},
     "output_type": "execute_result"
    },
    {
     "data": {
      "image/png": "[encoded data removed]",
      "text/plain": [
       "<Figure size 432x288 with 1 Axes>"
      ]
     },
     "metadata": {
      "needs_background": "light"
     },
     "output_type": "display_data"
    }
   ],
   "source": [
    "import seaborn as sns\n",
    "sns.scatterplot(data=finalDf,x='pc1',y='pc2',hue='Type')"
   ]
  },
  {
   "cell_type": "code",
   "execution_count": 50,
   "metadata": {},
   "outputs": [],
   "source": [
    "import numpy as np\n",
    "import matplotlib.pyplot as plt\n",
    "import scipy.linalg as la"
   ]
  },
  {
   "cell_type": "code",
   "execution_count": 51,
   "metadata": {},
   "outputs": [
    {
     "data": {
      "text/plain": [
       "array([[ 1,  0],\n",
       "       [ 0, -2]])"
      ]
     },
     "execution_count": 51,
     "metadata": {},
     "output_type": "execute_result"
    }
   ],
   "source": [
    "A = np.array([[1,0],[0,-2]])\n",
    "A"
   ]
  },
  {
   "cell_type": "code",
   "execution_count": 52,
   "metadata": {},
   "outputs": [],
   "source": [
    "eigvals, eigvecs = la.eig(A)"
   ]
  },
  {
   "cell_type": "code",
   "execution_count": 53,
   "metadata": {},
   "outputs": [],
   "source": [
    "#Eigen values\n",
    "eigvals = eigvals.real"
   ]
  },
  {
   "cell_type": "code",
   "execution_count": 54,
   "metadata": {},
   "outputs": [
    {
     "name": "stdout",
     "output_type": "stream",
     "text": [
      "-2.0\n"
     ]
    }
   ],
   "source": [
    "lambda1 = eigvals[1]\n",
    "print(lambda1)"
   ]
  },
  {
   "cell_type": "code",
   "execution_count": 55,
   "metadata": {},
   "outputs": [
    {
     "data": {
      "text/plain": [
       "array([[1., 0.],\n",
       "       [0., 1.]])"
      ]
     },
     "execution_count": 55,
     "metadata": {},
     "output_type": "execute_result"
    }
   ],
   "source": [
    "eigvecs"
   ]
  },
  {
   "cell_type": "code",
   "execution_count": 82,
   "metadata": {},
   "outputs": [
    {
     "data": {
      "text/plain": [
       "array([[ 1.51861254, -0.5622498 ,  0.23205254],\n",
       "       [ 0.24628963, -0.49941338, -0.82799632],\n",
       "       [ 0.19687903,  0.02123125,  1.10933436],\n",
       "       [ 1.69154964, -0.34681064,  0.4879264 ],\n",
       "       [ 0.29570023,  0.22769377,  1.84040254],\n",
       "       [ 1.48155459, -0.51736664,  0.30515936],\n",
       "       [ 1.71625494, -0.4186237 ,  0.30515936],\n",
       "       [ 1.3086175 , -0.16727801,  0.89001391],\n",
       "       [ 2.25977152, -0.62508622, -0.7183361 ],\n",
       "       [ 1.0615645 , -0.88540853, -0.352802  ],\n",
       "       [ 1.3580281 , -0.15830138, -0.24314178],\n",
       "       [ 1.38273339, -0.76871232, -0.17003496],\n",
       "       [ 0.92568536, -0.54429654,  0.15894572],\n",
       "       [ 2.16095032, -0.54429654,  0.0858389 ],\n",
       "       [ 1.70390229, -0.4186237 ,  0.0492855 ],\n",
       "       [ 0.77745356, -0.47248348,  1.21899459],\n",
       "       [ 1.60508109, -0.37374054,  1.29210141],\n",
       "       [ 1.02450655, -0.68792264,  0.92656731],\n",
       "       [ 1.46920194, -0.66996938,  0.41481959],\n",
       "       [ 0.78980621,  0.68550197,  0.70724686],\n",
       "       [ 1.3086175 , -0.63406285, -0.3162486 ],\n",
       "       [-0.08723191,  1.31386618,  1.03622754],\n",
       "       [ 0.87627476, -0.42760033, -0.02382132],\n",
       "       [-0.18605311, -0.66099274,  0.56103322],\n",
       "       [ 0.61686912, -0.47248348,  0.89001391],\n",
       "       [ 0.06099988, -0.25704433,  3.11977186],\n",
       "       [ 0.48098997, -0.50839001,  0.92656731],\n",
       "       [ 0.36981612, -0.55327317, -0.82799632],\n",
       "       [ 1.07391715, -0.3916938 ,  1.58452868],\n",
       "       [ 1.2592069 , -0.58917969, -0.57212246],\n",
       "       [ 0.90098006, -0.75075906,  1.21899459],\n",
       "       [ 0.71569031, -0.60713296, -0.02382132],\n",
       "       [ 0.83921681, -0.45453022, -0.02382132],\n",
       "       [ 0.93803801, -0.72382916,  1.21899459],\n",
       "       [ 0.62922177, -0.48146012,  1.03622754],\n",
       "       [ 0.59216382, -0.47248348,  0.15894572],\n",
       "       [ 0.34511082, -0.62508622,  1.73074231],\n",
       "       [ 0.06099988, -0.61610959,  0.67069345],\n",
       "       [ 0.08570518, -0.75075906, -0.97420996],\n",
       "       [ 1.50625989,  1.48442217,  0.52447981],\n",
       "       [ 0.69098501, -0.5622498 , -0.20658837],\n",
       "       [ 0.50569527,  1.3497727 , -0.90110314],\n",
       "       [ 1.0862698 , -0.40067043,  0.81690709],\n",
       "       [ 0.29570023,  1.47544554, -0.27969519],\n",
       "       [ 0.06099988, -0.50839001, -0.97420996],\n",
       "       [ 1.49390724,  1.52930533,  0.26860595],\n",
       "       [ 1.70390229,  1.12535692, -0.3162486 ],\n",
       "       [ 1.1109751 , -0.58917969, -0.90110314],\n",
       "       [ 1.3580281 , -0.28397422,  0.12239231],\n",
       "       [ 1.1603857 , -0.54429654, -0.352802  ],\n",
       "       [ 0.06099988, -0.54429654, -1.19353041],\n",
       "       [ 1.02450655, -0.61610959,  0.8534605 ],\n",
       "       [ 1.01215391, -0.52634327,  0.19549913],\n",
       "       [ 0.95039066, -0.3916938 ,  1.14588777],\n",
       "       [ 0.91333271, -0.59815632, -0.42590882],\n",
       "       [ 0.69098501, -0.54429654,  0.34171277],\n",
       "       [ 1.50625989, -0.57122643, -0.24314178],\n",
       "       [ 0.35746347, -0.32885738,  1.14588777],\n",
       "       [ 0.88862741, -0.81359548,  0.4879264 ],\n",
       "       [-0.77898029, -1.25345042, -3.67916223],\n",
       "       [-0.82839089, -1.10982432, -0.3162486 ],\n",
       "       [-0.44545875, -0.8764319 , -1.26663723],\n",
       "       [ 0.82686416, -0.97517485, -1.63217132],\n",
       "       [-0.77898029, -1.08289442, -0.75488951],\n",
       "       [-1.02603329, -0.79564222,  0.59758663],\n",
       "       [-0.77898029, -1.01108137,  0.70724686],\n",
       "       [ 0.13511578, -1.190614  , -2.43634632],\n",
       "       [-0.77898029, -1.0469879 , -1.63217132],\n",
       "       [ 0.41922672, -1.25345042, -0.02382132],\n",
       "       [-0.97662269, -1.02903463, -2.25357928],\n",
       "       [-0.87780149, -0.65201611, -0.57212246],\n",
       "       [ 1.0615645 , -0.74178243,  1.10933436],\n",
       "       [ 0.60451647, -0.60713296, -0.46246223],\n",
       "       [-0.01311602, -0.59815632,  0.8534605 ],\n",
       "       [-1.28543893, -1.11880095, -0.24314178],\n",
       "       [-1.65601842, -0.40964706, -1.63217132],\n",
       "       [ 0.03629458, -1.28935695, -2.39979292],\n",
       "       [-1.43367073,  0.49699271, -0.49901564],\n",
       "       [-0.82839089, -1.20856726, -1.5225111 ],\n",
       "       [-0.37134286,  1.3767026 ,  0.12239231],\n",
       "       [-1.23602833, -1.27140368, -1.33974405],\n",
       "       [-0.34663756, -0.47248348, -0.60867587],\n",
       "       [-1.13720713, -1.08289442,  0.52447981],\n",
       "       [ 0.06099988,  1.36772596, -0.17003496],\n",
       "       [-1.43367073, -1.29833358,  0.78035368],\n",
       "       [-0.4084008 , -1.21754389, -0.46246223],\n",
       "       [-1.03838594, -0.65201611, -0.20658837],\n",
       "       [-1.66837107, -0.59815632,  0.92656731],\n",
       "       [-1.68072372, -0.2480677 ,  0.34171277],\n",
       "       [-1.13720713, -0.90336179, -0.24314178],\n",
       "       [-1.13720713, -0.45453022, -0.17003496],\n",
       "       [-1.23602833, -0.74178243,  0.19549913],\n",
       "       [-0.38369551, -0.72382916, -0.38935541],\n",
       "       [-0.87780149,  0.44313292, -0.53556905],\n",
       "       [-1.70542902, -0.31090412, -0.3162486 ],\n",
       "       [-0.6554538 , -0.7328058 , -0.60867587],\n",
       "       [-1.47072867, -0.19420791,  1.36520822],\n",
       "       [-0.87780149, -0.83154874, -1.41285087],\n",
       "       [-0.77898029, -1.13675421, -0.97420996],\n",
       "       [-0.87780149,  0.74833839, -0.57212246],\n",
       "       [-1.13720713, -0.23011443, -2.43634632],\n",
       "       [-0.49486935, -0.89438516, -1.70527814],\n",
       "       [-0.81603824,  0.10202093,  0.34171277],\n",
       "       [-1.45837602, -0.55327317, -1.77838496],\n",
       "       [-0.6060432 , -0.54429654, -1.41285087],\n",
       "       [-0.71721705,  0.19178724, -0.352802  ],\n",
       "       [-0.92721209, -0.54429654, -0.90110314],\n",
       "       [-0.34663756, -0.52634327, -0.3162486 ],\n",
       "       [-0.96427004, -0.93926832, -1.55906451],\n",
       "       [-1.71778167, -0.88540853,  1.21899459],\n",
       "       [-1.90307141,  1.26000639, -1.99770541],\n",
       "       [-0.59369055,  0.08406767, -0.7183361 ],\n",
       "       [-1.53249192,  0.30848345,  2.02316959],\n",
       "       [-1.96483466, -1.43298305,  0.4879264 ],\n",
       "       [-1.13720713, -0.849502  ,  0.4879264 ],\n",
       "       [-2.43423535, -0.74178243, -0.60867587],\n",
       "       [-1.45837602, -0.77768895, -1.37629746],\n",
       "       [-0.71721705, -0.65201611, -0.64522928],\n",
       "       [-0.28487431,  0.98173081, -1.41285087],\n",
       "       [-1.23602833,  0.98173081, -1.33974405],\n",
       "       [-1.91542406,  0.05713777,  0.19549913],\n",
       "       [-1.77954492, -0.25704433,  3.15632527],\n",
       "       [-0.71721705,  1.87939396,  1.32865481],\n",
       "       [ 0.06099988,  3.10919247, -0.86454973],\n",
       "       [-1.39661278,  1.77167438,  0.0858389 ],\n",
       "       [-1.14955978, -0.15830138, -0.7183361 ],\n",
       "       [-0.7048644 , -0.72382916, -0.27969519],\n",
       "       [-1.49543397, -0.18523128,  1.51142186],\n",
       "       [-0.77898029, -0.63406285, -0.24314178],\n",
       "       [-1.18661773,  1.76269775,  0.0492855 ],\n",
       "       [-0.17370046, -0.88540853, -0.17003496],\n",
       "       [-0.14899516,  0.58675903,  0.12239231],\n",
       "       [-0.23546371, -0.02365191,  0.12239231],\n",
       "       [-0.37134286,  1.08945039, -0.02382132],\n",
       "       [-0.6060432 , -0.98415148, -0.42590882],\n",
       "       [-0.49486935,  0.11099756, -0.60867587],\n",
       "       [-0.92721209,  2.13971627,  0.63414004],\n",
       "       [-0.5813379 ,  2.84887015,  0.99967413],\n",
       "       [ 0.60451647,  1.12535692, -0.64522928],\n",
       "       [-0.19840576,  0.55982913,  0.89001391],\n",
       "       [-0.08723191,  0.42517966,  1.21899459],\n",
       "       [ 0.44393202,  0.20076388, -0.06037473],\n",
       "       [ 0.64157442,  0.74833839,  1.29210141],\n",
       "       [ 0.76510091,  2.34617879, -0.06037473],\n",
       "       [-0.92721209,  1.38567923, -0.60867587],\n",
       "       [ 0.19687903,  1.10740365, -0.79144291],\n",
       "       [ 1.0862698 ,  2.42696848, -0.49901564],\n",
       "       [-0.16134781,  2.04097332,  0.41481959],\n",
       "       [ 0.39452142,  0.81117481,  0.0492855 ],\n",
       "       [ 0.09805783,  1.40363249, -0.02382132],\n",
       "       [ 0.61686912,  0.70345524,  0.92656731],\n",
       "       [-0.26016901,  0.29950682,  0.41481959],\n",
       "       [ 0.13511578, -0.3916938 ,  1.40176163],\n",
       "       [ 0.28334758,  0.8650346 , -0.3162486 ],\n",
       "       [-0.51957465, -0.93926832, -0.97420996],\n",
       "       [ 0.20923168,  2.56161795, -0.17003496],\n",
       "       [ 1.0368592 ,  1.60111838,  0.0492855 ],\n",
       "       [-0.6801591 ,  0.62266555,  0.99967413],\n",
       "       [ 1.65449169, -0.58917969,  1.21899459],\n",
       "       [ 0.59216382, -0.59815632,  0.99967413],\n",
       "       [-0.79133294,  1.34079607,  0.0492855 ],\n",
       "       [ 0.85156946,  0.82912808,  0.63414004],\n",
       "       [-0.18605311,  0.83810471,  0.78035368],\n",
       "       [-0.05017396,  0.99968408, -0.06037473],\n",
       "       [ 0.96274331,  0.3802965 , -0.24314178],\n",
       "       [ 0.90098006,  1.81655754, -0.38935541],\n",
       "       [ 0.55510587,  1.22409986,  0.8534605 ],\n",
       "       [-0.22311106,  0.92787102, -0.24314178],\n",
       "       [ 0.71569031,  0.21871714,  1.18244118],\n",
       "       [ 0.49334262,  2.03199669,  1.80384913],\n",
       "       [-0.98897534,  0.62266555, -0.17003496],\n",
       "       [-0.28487431,  0.04816114, -0.3162486 ],\n",
       "       [ 1.43214399,  0.15588072,  0.41481959],\n",
       "       [ 0.87627476,  2.974543  ,  0.30515936],\n",
       "       [ 0.49334262,  1.41260912,  0.41481959],\n",
       "       [ 0.33275817,  1.74474449, -0.38935541],\n",
       "       [ 0.20923168,  0.22769377,  0.01273209],\n",
       "       [ 1.39508604,  1.58316512,  1.36520822]])"
      ]
     },
     "execution_count": 82,
     "metadata": {},
     "output_type": "execute_result"
    }
   ],
   "source": [
    "#k-means clustering\n",
    "import numpy as np\n",
    "import pandas as pd\n",
    "from matplotlib import pyplot as plt\n",
    "from sklearn.cluster import KMeans\n",
    "from sklearn.preprocessing import StandardScaler\n",
    "wine1=wine.iloc[:,1:4]\n",
    "scaler = StandardScaler()\n",
    "scaled_wine_df = scaler.fit_transform(wine1)\n",
    "scaled_wine_df\n"
   ]
  },
  {
   "cell_type": "code",
   "execution_count": 60,
   "metadata": {},
   "outputs": [
    {
     "data": {
      "image/png": "[encoded data removed]",
      "text/plain": [
       "<Figure size 432x288 with 1 Axes>"
      ]
     },
     "metadata": {
      "needs_background": "light"
     },
     "output_type": "display_data"
    }
   ],
   "source": [
    "wcss = []\n",
    "for i in range(1, 11):\n",
    "    kmeans = KMeans(n_clusters=i,random_state=0)\n",
    "    kmeans.fit(scaled_wine_df)\n",
    "    wcss.append(kmeans.inertia_)\n",
    "    \n",
    "plt.plot(range(1, 11), wcss)\n",
    "plt.title('Elbow Method')\n",
    "plt.xlabel('Number of clusters')\n",
    "plt.ylabel('WCSS')\n",
    "plt.show()"
   ]
  },
  {
   "cell_type": "code",
   "execution_count": 62,
   "metadata": {},
   "outputs": [
    {
     "data": {
      "text/plain": [
       "KMeans(n_clusters=3, random_state=42)"
      ]
     },
     "execution_count": 62,
     "metadata": {},
     "output_type": "execute_result"
    }
   ],
   "source": [
    "#Build Cluster algorithm\n",
    "from sklearn.cluster import KMeans\n",
    "clusters_new = KMeans(3, random_state=42)\n",
    "clusters_new.fit(scaled_wine_df)"
   ]
  },
  {
   "cell_type": "code",
   "execution_count": 87,
   "metadata": {},
   "outputs": [],
   "source": [
    "wine1['clusterid_new'] = clusters_new.labels_"
   ]
  },
  {
   "cell_type": "code",
   "execution_count": 88,
   "metadata": {},
   "outputs": [
    {
     "data": {
      "text/plain": [
       "array([[ 0.14746843,  1.39465586,  0.25413689],\n",
       "       [-0.86738997, -0.56763578, -0.63896298],\n",
       "       [ 0.89398022, -0.45348295,  0.54214729]])"
      ]
     },
     "execution_count": 88,
     "metadata": {},
     "output_type": "execute_result"
    }
   ],
   "source": [
    "clusters_new.cluster_centers_"
   ]
  },
  {
   "cell_type": "code",
   "execution_count": 89,
   "metadata": {},
   "outputs": [
    {
     "data": {
      "text/html": [
       "<div>\n",
       "<style scoped>\n",
       "    .dataframe tbody tr th:only-of-type {\n",
       "        vertical-align: middle;\n",
       "    }\n",
       "\n",
       "    .dataframe tbody tr th {\n",
       "        vertical-align: top;\n",
       "    }\n",
       "\n",
       "    .dataframe thead tr th {\n",
       "        text-align: left;\n",
       "    }\n",
       "</style>\n",
       "<table border=\"1\" class=\"dataframe\">\n",
       "  <thead>\n",
       "    <tr>\n",
       "      <th></th>\n",
       "      <th>clusterid_new</th>\n",
       "      <th>Alcohol</th>\n",
       "      <th>Malic</th>\n",
       "      <th>Ash</th>\n",
       "    </tr>\n",
       "    <tr>\n",
       "      <th></th>\n",
       "      <th></th>\n",
       "      <th>mean</th>\n",
       "      <th>mean</th>\n",
       "      <th>mean</th>\n",
       "    </tr>\n",
       "  </thead>\n",
       "  <tbody>\n",
       "    <tr>\n",
       "      <th>0</th>\n",
       "      <td>0</td>\n",
       "      <td>13.120000</td>\n",
       "      <td>3.890000</td>\n",
       "      <td>2.436042</td>\n",
       "    </tr>\n",
       "    <tr>\n",
       "      <th>1</th>\n",
       "      <td>1</td>\n",
       "      <td>12.298429</td>\n",
       "      <td>1.704000</td>\n",
       "      <td>2.191714</td>\n",
       "    </tr>\n",
       "    <tr>\n",
       "      <th>2</th>\n",
       "      <td>2</td>\n",
       "      <td>13.724333</td>\n",
       "      <td>1.831167</td>\n",
       "      <td>2.514833</td>\n",
       "    </tr>\n",
       "  </tbody>\n",
       "</table>\n",
       "</div>"
      ],
      "text/plain": [
       "  clusterid_new    Alcohol     Malic       Ash\n",
       "                      mean      mean      mean\n",
       "0             0  13.120000  3.890000  2.436042\n",
       "1             1  12.298429  1.704000  2.191714\n",
       "2             2  13.724333  1.831167  2.514833"
      ]
     },
     "execution_count": 89,
     "metadata": {},
     "output_type": "execute_result"
    }
   ],
   "source": [
    "wine1.groupby('clusterid_new').agg(['mean']).reset_index()"
   ]
  },
  {
   "cell_type": "code",
   "execution_count": 67,
   "metadata": {},
   "outputs": [],
   "source": [
    "#hierarchical clustreing\n",
    "import scipy.cluster.hierarchy as sch\n",
    "from sklearn.cluster import AgglomerativeClustering\n",
    "import numpy as np\n",
    "import pandas as pd\n",
    "from matplotlib import pyplot as plt\n",
    "import seaborn as sn\n"
   ]
  },
  {
   "cell_type": "code",
   "execution_count": 68,
   "metadata": {},
   "outputs": [],
   "source": [
    "def norm_func(i):\n",
    "    x = (i-i.min())/(i.max()-i.min())\n",
    "    return (x)"
   ]
  },
  {
   "cell_type": "code",
   "execution_count": 69,
   "metadata": {},
   "outputs": [],
   "source": [
    "df_norm = norm_func(wine1)"
   ]
  },
  {
   "cell_type": "code",
   "execution_count": 90,
   "metadata": {},
   "outputs": [
    {
     "data": {
      "text/html": [
       "<div>\n",
       "<style scoped>\n",
       "    .dataframe tbody tr th:only-of-type {\n",
       "        vertical-align: middle;\n",
       "    }\n",
       "\n",
       "    .dataframe tbody tr th {\n",
       "        vertical-align: top;\n",
       "    }\n",
       "\n",
       "    .dataframe thead th {\n",
       "        text-align: right;\n",
       "    }\n",
       "</style>\n",
       "<table border=\"1\" class=\"dataframe\">\n",
       "  <thead>\n",
       "    <tr style=\"text-align: right;\">\n",
       "      <th></th>\n",
       "      <th>Alcohol</th>\n",
       "      <th>Malic</th>\n",
       "      <th>Ash</th>\n",
       "    </tr>\n",
       "  </thead>\n",
       "  <tbody>\n",
       "    <tr>\n",
       "      <th>0</th>\n",
       "      <td>0.842105</td>\n",
       "      <td>0.191700</td>\n",
       "      <td>0.572193</td>\n",
       "    </tr>\n",
       "    <tr>\n",
       "      <th>1</th>\n",
       "      <td>0.571053</td>\n",
       "      <td>0.205534</td>\n",
       "      <td>0.417112</td>\n",
       "    </tr>\n",
       "    <tr>\n",
       "      <th>2</th>\n",
       "      <td>0.560526</td>\n",
       "      <td>0.320158</td>\n",
       "      <td>0.700535</td>\n",
       "    </tr>\n",
       "    <tr>\n",
       "      <th>3</th>\n",
       "      <td>0.878947</td>\n",
       "      <td>0.239130</td>\n",
       "      <td>0.609626</td>\n",
       "    </tr>\n",
       "    <tr>\n",
       "      <th>4</th>\n",
       "      <td>0.581579</td>\n",
       "      <td>0.365613</td>\n",
       "      <td>0.807487</td>\n",
       "    </tr>\n",
       "    <tr>\n",
       "      <th>...</th>\n",
       "      <td>...</td>\n",
       "      <td>...</td>\n",
       "      <td>...</td>\n",
       "    </tr>\n",
       "    <tr>\n",
       "      <th>173</th>\n",
       "      <td>0.705263</td>\n",
       "      <td>0.970356</td>\n",
       "      <td>0.582888</td>\n",
       "    </tr>\n",
       "    <tr>\n",
       "      <th>174</th>\n",
       "      <td>0.623684</td>\n",
       "      <td>0.626482</td>\n",
       "      <td>0.598930</td>\n",
       "    </tr>\n",
       "    <tr>\n",
       "      <th>175</th>\n",
       "      <td>0.589474</td>\n",
       "      <td>0.699605</td>\n",
       "      <td>0.481283</td>\n",
       "    </tr>\n",
       "    <tr>\n",
       "      <th>176</th>\n",
       "      <td>0.563158</td>\n",
       "      <td>0.365613</td>\n",
       "      <td>0.540107</td>\n",
       "    </tr>\n",
       "    <tr>\n",
       "      <th>177</th>\n",
       "      <td>0.815789</td>\n",
       "      <td>0.664032</td>\n",
       "      <td>0.737968</td>\n",
       "    </tr>\n",
       "  </tbody>\n",
       "</table>\n",
       "<p>178 rows × 3 columns</p>\n",
       "</div>"
      ],
      "text/plain": [
       "      Alcohol     Malic       Ash\n",
       "0    0.842105  0.191700  0.572193\n",
       "1    0.571053  0.205534  0.417112\n",
       "2    0.560526  0.320158  0.700535\n",
       "3    0.878947  0.239130  0.609626\n",
       "4    0.581579  0.365613  0.807487\n",
       "..        ...       ...       ...\n",
       "173  0.705263  0.970356  0.582888\n",
       "174  0.623684  0.626482  0.598930\n",
       "175  0.589474  0.699605  0.481283\n",
       "176  0.563158  0.365613  0.540107\n",
       "177  0.815789  0.664032  0.737968\n",
       "\n",
       "[178 rows x 3 columns]"
      ]
     },
     "execution_count": 90,
     "metadata": {},
     "output_type": "execute_result"
    }
   ],
   "source": [
    "df_norm"
   ]
  },
  {
   "cell_type": "code",
   "execution_count": 91,
   "metadata": {},
   "outputs": [
    {
     "data": {
      "image/png": "[encoded data removed]",
      "text/plain": [
       "<Figure size 432x288 with 1 Axes>"
      ]
     },
     "metadata": {
      "needs_background": "light"
     },
     "output_type": "display_data"
    }
   ],
   "source": [
    "dendrogram = sch.dendrogram(sch.linkage(df_norm, method='average'))"
   ]
  },
  {
   "cell_type": "code",
   "execution_count": 92,
   "metadata": {},
   "outputs": [],
   "source": [
    "hc = AgglomerativeClustering(n_clusters=3, affinity = 'euclidean', linkage = 'single')"
   ]
  },
  {
   "cell_type": "code",
   "execution_count": 93,
   "metadata": {},
   "outputs": [],
   "source": [
    "# save clusters for chart\n",
    "y_hc = hc.fit_predict(df_norm)\n",
    "Clusters=pd.DataFrame(y_hc,columns=['Clusters'])"
   ]
  },
  {
   "cell_type": "code",
   "execution_count": 95,
   "metadata": {},
   "outputs": [],
   "source": [
    "wine1['h_clusterid'] = hc.labels_"
   ]
  },
  {
   "cell_type": "code",
   "execution_count": 96,
   "metadata": {},
   "outputs": [
    {
     "data": {
      "text/html": [
       "<div>\n",
       "<style scoped>\n",
       "    .dataframe tbody tr th:only-of-type {\n",
       "        vertical-align: middle;\n",
       "    }\n",
       "\n",
       "    .dataframe tbody tr th {\n",
       "        vertical-align: top;\n",
       "    }\n",
       "\n",
       "    .dataframe thead th {\n",
       "        text-align: right;\n",
       "    }\n",
       "</style>\n",
       "<table border=\"1\" class=\"dataframe\">\n",
       "  <thead>\n",
       "    <tr style=\"text-align: right;\">\n",
       "      <th></th>\n",
       "      <th>Alcohol</th>\n",
       "      <th>Malic</th>\n",
       "      <th>Ash</th>\n",
       "      <th>clusterid_new</th>\n",
       "      <th>h_clusterid</th>\n",
       "    </tr>\n",
       "  </thead>\n",
       "  <tbody>\n",
       "    <tr>\n",
       "      <th>0</th>\n",
       "      <td>14.23</td>\n",
       "      <td>1.71</td>\n",
       "      <td>2.43</td>\n",
       "      <td>2</td>\n",
       "      <td>0</td>\n",
       "    </tr>\n",
       "    <tr>\n",
       "      <th>1</th>\n",
       "      <td>13.20</td>\n",
       "      <td>1.78</td>\n",
       "      <td>2.14</td>\n",
       "      <td>1</td>\n",
       "      <td>0</td>\n",
       "    </tr>\n",
       "    <tr>\n",
       "      <th>2</th>\n",
       "      <td>13.16</td>\n",
       "      <td>2.36</td>\n",
       "      <td>2.67</td>\n",
       "      <td>2</td>\n",
       "      <td>0</td>\n",
       "    </tr>\n",
       "    <tr>\n",
       "      <th>3</th>\n",
       "      <td>14.37</td>\n",
       "      <td>1.95</td>\n",
       "      <td>2.50</td>\n",
       "      <td>2</td>\n",
       "      <td>0</td>\n",
       "    </tr>\n",
       "    <tr>\n",
       "      <th>4</th>\n",
       "      <td>13.24</td>\n",
       "      <td>2.59</td>\n",
       "      <td>2.87</td>\n",
       "      <td>2</td>\n",
       "      <td>0</td>\n",
       "    </tr>\n",
       "    <tr>\n",
       "      <th>...</th>\n",
       "      <td>...</td>\n",
       "      <td>...</td>\n",
       "      <td>...</td>\n",
       "      <td>...</td>\n",
       "      <td>...</td>\n",
       "    </tr>\n",
       "    <tr>\n",
       "      <th>173</th>\n",
       "      <td>13.71</td>\n",
       "      <td>5.65</td>\n",
       "      <td>2.45</td>\n",
       "      <td>0</td>\n",
       "      <td>0</td>\n",
       "    </tr>\n",
       "    <tr>\n",
       "      <th>174</th>\n",
       "      <td>13.40</td>\n",
       "      <td>3.91</td>\n",
       "      <td>2.48</td>\n",
       "      <td>0</td>\n",
       "      <td>0</td>\n",
       "    </tr>\n",
       "    <tr>\n",
       "      <th>175</th>\n",
       "      <td>13.27</td>\n",
       "      <td>4.28</td>\n",
       "      <td>2.26</td>\n",
       "      <td>0</td>\n",
       "      <td>0</td>\n",
       "    </tr>\n",
       "    <tr>\n",
       "      <th>176</th>\n",
       "      <td>13.17</td>\n",
       "      <td>2.59</td>\n",
       "      <td>2.37</td>\n",
       "      <td>2</td>\n",
       "      <td>0</td>\n",
       "    </tr>\n",
       "    <tr>\n",
       "      <th>177</th>\n",
       "      <td>14.13</td>\n",
       "      <td>4.10</td>\n",
       "      <td>2.74</td>\n",
       "      <td>0</td>\n",
       "      <td>0</td>\n",
       "    </tr>\n",
       "  </tbody>\n",
       "</table>\n",
       "<p>178 rows × 5 columns</p>\n",
       "</div>"
      ],
      "text/plain": [
       "     Alcohol  Malic   Ash  clusterid_new  h_clusterid\n",
       "0      14.23   1.71  2.43              2            0\n",
       "1      13.20   1.78  2.14              1            0\n",
       "2      13.16   2.36  2.67              2            0\n",
       "3      14.37   1.95  2.50              2            0\n",
       "4      13.24   2.59  2.87              2            0\n",
       "..       ...    ...   ...            ...          ...\n",
       "173    13.71   5.65  2.45              0            0\n",
       "174    13.40   3.91  2.48              0            0\n",
       "175    13.27   4.28  2.26              0            0\n",
       "176    13.17   2.59  2.37              2            0\n",
       "177    14.13   4.10  2.74              0            0\n",
       "\n",
       "[178 rows x 5 columns]"
      ]
     },
     "execution_count": 96,
     "metadata": {},
     "output_type": "execute_result"
    }
   ],
   "source": [
    "wine1"
   ]
  },
  {
   "cell_type": "code",
   "execution_count": 97,
   "metadata": {},
   "outputs": [
    {
     "data": {
      "text/html": [
       "<div>\n",
       "<style scoped>\n",
       "    .dataframe tbody tr th:only-of-type {\n",
       "        vertical-align: middle;\n",
       "    }\n",
       "\n",
       "    .dataframe tbody tr th {\n",
       "        vertical-align: top;\n",
       "    }\n",
       "\n",
       "    .dataframe thead th {\n",
       "        text-align: right;\n",
       "    }\n",
       "</style>\n",
       "<table border=\"1\" class=\"dataframe\">\n",
       "  <thead>\n",
       "    <tr style=\"text-align: right;\">\n",
       "      <th></th>\n",
       "      <th>Clusters</th>\n",
       "    </tr>\n",
       "  </thead>\n",
       "  <tbody>\n",
       "    <tr>\n",
       "      <th>0</th>\n",
       "      <td>0</td>\n",
       "    </tr>\n",
       "    <tr>\n",
       "      <th>1</th>\n",
       "      <td>0</td>\n",
       "    </tr>\n",
       "    <tr>\n",
       "      <th>2</th>\n",
       "      <td>0</td>\n",
       "    </tr>\n",
       "    <tr>\n",
       "      <th>3</th>\n",
       "      <td>0</td>\n",
       "    </tr>\n",
       "    <tr>\n",
       "      <th>4</th>\n",
       "      <td>0</td>\n",
       "    </tr>\n",
       "    <tr>\n",
       "      <th>...</th>\n",
       "      <td>...</td>\n",
       "    </tr>\n",
       "    <tr>\n",
       "      <th>173</th>\n",
       "      <td>0</td>\n",
       "    </tr>\n",
       "    <tr>\n",
       "      <th>174</th>\n",
       "      <td>0</td>\n",
       "    </tr>\n",
       "    <tr>\n",
       "      <th>175</th>\n",
       "      <td>0</td>\n",
       "    </tr>\n",
       "    <tr>\n",
       "      <th>176</th>\n",
       "      <td>0</td>\n",
       "    </tr>\n",
       "    <tr>\n",
       "      <th>177</th>\n",
       "      <td>0</td>\n",
       "    </tr>\n",
       "  </tbody>\n",
       "</table>\n",
       "<p>178 rows × 1 columns</p>\n",
       "</div>"
      ],
      "text/plain": [
       "     Clusters\n",
       "0           0\n",
       "1           0\n",
       "2           0\n",
       "3           0\n",
       "4           0\n",
       "..        ...\n",
       "173         0\n",
       "174         0\n",
       "175         0\n",
       "176         0\n",
       "177         0\n",
       "\n",
       "[178 rows x 1 columns]"
      ]
     },
     "execution_count": 97,
     "metadata": {},
     "output_type": "execute_result"
    }
   ],
   "source": [
    "Clusters"
   ]
  },
  {
   "cell_type": "code",
   "execution_count": null,
   "metadata": {},
   "outputs": [],
   "source": []
  }
 ],
 "metadata": {
  "kernelspec": {
   "display_name": "Python 3",
   "language": "python",
   "name": "python3"
  },
  "language_info": {
   "codemirror_mode": {
    "name": "ipython",
    "version": 3
   },
   "file_extension": ".py",
   "mimetype": "text/x-python",
   "name": "python",
   "nbconvert_exporter": "python",
   "pygments_lexer": "ipython3",
   "version": "3.8.3"
  }
 },
 "nbformat": 4,
 "nbformat_minor": 4
}
